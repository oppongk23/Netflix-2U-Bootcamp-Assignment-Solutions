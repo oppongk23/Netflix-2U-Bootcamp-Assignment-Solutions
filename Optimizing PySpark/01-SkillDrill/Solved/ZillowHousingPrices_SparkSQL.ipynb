{
  "nbformat": 4,
  "nbformat_minor": 0,
  "metadata": {
    "colab": {
      "name": "ZillowHousingPrices_SparkSQL.ipynb",
      "provenance": [],
      "collapsed_sections": []
    },
    "kernelspec": {
      "name": "python3",
      "display_name": "Python 3"
    },
    "accelerator": "GPU"
  },
  "cells": [
    {
      "cell_type": "code",
      "metadata": {
        "colab": {
          "base_uri": "https://localhost:8080/"
        },
        "id": "BG0YM1_W9v6s",
        "outputId": "ae266add-5699-483f-d8d6-33acfadb6271"
      },
      "source": [
        "import os\n",
        "# Find the latest version of spark 3.0  from http://www-us.apache.org/dist/spark/ and enter as the spark version\n",
        "# For example:\n",
        "spark_version = 'spark-3.0.1'\n",
        "# spark_version = 'spark-3.<enter version>'\n",
        "os.environ['SPARK_VERSION']=spark_version\n",
        "\n",
        "# Install Spark and Java\n",
        "!apt-get update\n",
        "!apt-get install openjdk-11-jdk-headless -qq > /dev/null\n",
        "!wget -q https://archive.apache.org/dist/spark/spark-3.0.1/spark-3.0.1-bin-hadoop2.7.tgz\n",
        "!tar xf spark-3.0.1-bin-hadoop2.7.tgz\n",
        "\n",
        "!pip install -q findspark\n",
        "\n",
        "# Set Environment Variables\n",
        "os.environ[\"JAVA_HOME\"] = \"/usr/lib/jvm/java-11-openjdk-amd64\"\n",
        "os.environ[\"SPARK_HOME\"] = f\"/content/spark-3.0.1-bin-hadoop2.7\"\n",
        "\n",
        "# Start a SparkSession\n",
        "import findspark\n",
        "findspark.init()"
      ],
      "execution_count": 1,
      "outputs": [
        {
          "output_type": "stream",
          "name": "stdout",
          "text": [
            "\r0% [Working]\r            \rGet:1 https://cloud.r-project.org/bin/linux/ubuntu bionic-cran40/ InRelease [3,626 B]\n",
            "\r0% [Connecting to archive.ubuntu.com (91.189.88.142)] [Waiting for headers] [1 \r0% [Connecting to archive.ubuntu.com (91.189.88.142)] [Waiting for headers] [Co\r                                                                               \rGet:2 http://security.ubuntu.com/ubuntu bionic-security InRelease [88.7 kB]\n",
            "Ign:3 https://developer.download.nvidia.com/compute/cuda/repos/ubuntu1804/x86_64  InRelease\n",
            "Hit:4 http://archive.ubuntu.com/ubuntu bionic InRelease\n",
            "Ign:5 https://developer.download.nvidia.com/compute/machine-learning/repos/ubuntu1804/x86_64  InRelease\n",
            "Get:6 https://developer.download.nvidia.com/compute/cuda/repos/ubuntu1804/x86_64  Release [696 B]\n",
            "Get:7 http://ppa.launchpad.net/c2d4u.team/c2d4u4.0+/ubuntu bionic InRelease [15.9 kB]\n",
            "Hit:8 https://developer.download.nvidia.com/compute/machine-learning/repos/ubuntu1804/x86_64  Release\n",
            "Get:9 https://developer.download.nvidia.com/compute/cuda/repos/ubuntu1804/x86_64  Release.gpg [836 B]\n",
            "Get:10 https://cloud.r-project.org/bin/linux/ubuntu bionic-cran40/ Packages [73.0 kB]\n",
            "Get:11 http://archive.ubuntu.com/ubuntu bionic-updates InRelease [88.7 kB]\n",
            "Get:12 http://security.ubuntu.com/ubuntu bionic-security/multiverse amd64 Packages [26.8 kB]\n",
            "Get:13 http://security.ubuntu.com/ubuntu bionic-security/universe amd64 Packages [1,439 kB]\n",
            "Hit:14 http://ppa.launchpad.net/cran/libgit2/ubuntu bionic InRelease\n",
            "Get:15 http://archive.ubuntu.com/ubuntu bionic-backports InRelease [74.6 kB]\n",
            "Get:16 http://security.ubuntu.com/ubuntu bionic-security/main amd64 Packages [2,430 kB]\n",
            "Get:17 http://security.ubuntu.com/ubuntu bionic-security/restricted amd64 Packages [666 kB]\n",
            "Hit:18 http://ppa.launchpad.net/deadsnakes/ppa/ubuntu bionic InRelease\n",
            "Hit:20 http://ppa.launchpad.net/graphics-drivers/ppa/ubuntu bionic InRelease\n",
            "Get:21 https://developer.download.nvidia.com/compute/cuda/repos/ubuntu1804/x86_64  Packages [808 kB]\n",
            "Get:22 http://ppa.launchpad.net/c2d4u.team/c2d4u4.0+/ubuntu bionic/main Sources [1,812 kB]\n",
            "Get:23 http://archive.ubuntu.com/ubuntu bionic-updates/restricted amd64 Packages [699 kB]\n",
            "Get:24 http://archive.ubuntu.com/ubuntu bionic-updates/universe amd64 Packages [2,220 kB]\n",
            "Get:25 http://archive.ubuntu.com/ubuntu bionic-updates/main amd64 Packages [2,868 kB]\n",
            "Get:26 http://ppa.launchpad.net/c2d4u.team/c2d4u4.0+/ubuntu bionic/main amd64 Packages [928 kB]\n",
            "Get:27 http://archive.ubuntu.com/ubuntu bionic-updates/multiverse amd64 Packages [34.4 kB]\n",
            "Fetched 14.3 MB in 3s (4,270 kB/s)\n",
            "Reading package lists... Done\n"
          ]
        }
      ]
    },
    {
      "cell_type": "code",
      "metadata": {
        "colab": {
          "base_uri": "https://localhost:8080/"
        },
        "id": "lprE3pgj9ztb",
        "outputId": "20f03270-ca1e-4dc7-cbf4-b258adf3c50a"
      },
      "source": [
        "!wget https://jdbc.postgresql.org/download/postgresql-42.2.9.jar"
      ],
      "execution_count": 2,
      "outputs": [
        {
          "output_type": "stream",
          "name": "stdout",
          "text": [
            "--2021-11-13 03:33:30--  https://jdbc.postgresql.org/download/postgresql-42.2.9.jar\n",
            "Resolving jdbc.postgresql.org (jdbc.postgresql.org)... 72.32.157.228, 2001:4800:3e1:1::228\n",
            "Connecting to jdbc.postgresql.org (jdbc.postgresql.org)|72.32.157.228|:443... connected.\n",
            "HTTP request sent, awaiting response... 200 OK\n",
            "Length: 914037 (893K) [application/java-archive]\n",
            "Saving to: ‘postgresql-42.2.9.jar’\n",
            "\n",
            "postgresql-42.2.9.j 100%[===================>] 892.61K  --.-KB/s    in 0.08s   \n",
            "\n",
            "2021-11-13 03:33:31 (10.6 MB/s) - ‘postgresql-42.2.9.jar’ saved [914037/914037]\n",
            "\n"
          ]
        }
      ]
    },
    {
      "cell_type": "code",
      "metadata": {
        "id": "NFqP0kVD92k2"
      },
      "source": [
        "# Start Spark session\n",
        "from pyspark.sql import SparkSession\n",
        "spark = SparkSession.builder.appName(\"Zillow Housing Prices\").config(\"spark.driver.extraClassPath\",\"/content/postgresql-42.2.9.jar\").getOrCreate()"
      ],
      "execution_count": 3,
      "outputs": []
    },
    {
      "cell_type": "code",
      "metadata": {
        "id": "wiRfuXC3-KJP"
      },
      "source": [
        "# Read in data from S3 Bucket\n",
        "from pyspark import SparkFiles\n",
        "url = \"https://2u-data-curriculum-team.s3.amazonaws.com/dataviz-netflix/unit-7/zillow_housing_prices.csv\"\n"
      ],
      "execution_count": 4,
      "outputs": []
    },
    {
      "cell_type": "code",
      "metadata": {
        "id": "_gwHB5Gp-NV7"
      },
      "source": [
        "#Create a temp view of your dataframe\n",
        "spark.sparkContext.addFile(url)\n",
        "zillow_housing = spark.read.option('header', 'true').csv(SparkFiles.get(\"zillow_housing_prices.csv\"), inferSchema=True, sep=',', timestampFormat=\"mm/dd/yy\")\n",
        "zillow_housing.createOrReplaceTempView(\"zillow\")"
      ],
      "execution_count": 5,
      "outputs": []
    },
    {
      "cell_type": "code",
      "metadata": {
        "colab": {
          "base_uri": "https://localhost:8080/"
        },
        "id": "kUoMyLij-UHM",
        "outputId": "780edb8e-f8f4-45f1-ceb1-6e7406d666f2"
      },
      "source": [
        "# Cast 2020-01 column as float and display the average price per state using Spark SQL\n",
        "spark.sql('''select StateName, sum(cast(`2020-01` as float))/count(`2020-01`) as averagePrice from zillow group by StateName''').show()"
      ],
      "execution_count": 6,
      "outputs": [
        {
          "output_type": "stream",
          "name": "stdout",
          "text": [
            "+--------------------+------------------+\n",
            "|           StateName|      averagePrice|\n",
            "+--------------------+------------------+\n",
            "|                Utah|          345200.0|\n",
            "|              Hawaii|         572868.75|\n",
            "|           Minnesota|256823.59550561797|\n",
            "|                Ohio| 179073.9393939394|\n",
            "|              Oregon| 342466.6666666667|\n",
            "|            Arkansas|162611.42857142858|\n",
            "|               Texas|266331.35135135136|\n",
            "|        North Dakota|230916.66666666666|\n",
            "|        Pennsylvania|246516.66666666666|\n",
            "|         Connecticut|291745.28301886795|\n",
            "|            Nebraska|191727.27272727274|\n",
            "|              Nevada|          327370.0|\n",
            "|          Washington|438228.30188679247|\n",
            "|            Illinois| 234485.7142857143|\n",
            "|            Oklahoma|162641.93548387097|\n",
            "|District of Columbia|          580100.0|\n",
            "|            Delaware| 276073.6842105263|\n",
            "|          New Mexico|          215550.0|\n",
            "|       West Virginia|          179200.0|\n",
            "|            Missouri|206980.26315789475|\n",
            "+--------------------+------------------+\n",
            "only showing top 20 rows\n",
            "\n"
          ]
        }
      ]
    },
    {
      "cell_type": "code",
      "metadata": {
        "colab": {
          "base_uri": "https://localhost:8080/"
        },
        "id": "9uQ-y71O_v_j",
        "outputId": "69cce9fc-1242-4659-8837-be619f64e7ff"
      },
      "source": [
        "# Repeat the same cast and average price for the month of February or 2020-02 using SparkSQL\n",
        "spark.sql('''select StateName, sum(cast(`2020-02` as float))/count(`2020-02`) as averagePrice from zillow group by StateName''').show()"
      ],
      "execution_count": 7,
      "outputs": [
        {
          "output_type": "stream",
          "name": "stdout",
          "text": [
            "+--------------------+------------------+\n",
            "|           StateName|      averagePrice|\n",
            "+--------------------+------------------+\n",
            "|                Utah|  347562.962962963|\n",
            "|              Hawaii|          592525.0|\n",
            "|           Minnesota|261769.76744186046|\n",
            "|                Ohio|182818.30065359478|\n",
            "|              Oregon|348658.82352941175|\n",
            "|            Arkansas|165128.57142857142|\n",
            "|               Texas| 269829.6703296703|\n",
            "|        North Dakota|          232660.0|\n",
            "|        Pennsylvania| 250119.6261682243|\n",
            "|         Connecticut| 297518.8679245283|\n",
            "|            Nebraska|          198640.0|\n",
            "|              Nevada|          327770.0|\n",
            "|          Washington| 439433.3333333333|\n",
            "|            Illinois|232948.19277108434|\n",
            "|            Oklahoma|165754.83870967742|\n",
            "|District of Columbia|          575700.0|\n",
            "|            Delaware| 285189.4736842105|\n",
            "|          New Mexico|          228962.5|\n",
            "|       West Virginia|          184400.0|\n",
            "|            Missouri|209020.83333333334|\n",
            "+--------------------+------------------+\n",
            "only showing top 20 rows\n",
            "\n"
          ]
        }
      ]
    },
    {
      "cell_type": "code",
      "metadata": {
        "colab": {
          "base_uri": "https://localhost:8080/"
        },
        "id": "UuHifWxxAGhV",
        "outputId": "1a19a4fb-f900-491e-8945-f9c883356c2c"
      },
      "source": [
        "# Repeat the same cast and average price per state for the month of February, but filter out any states with greater than $200000 average price\n",
        "price_perstate_below_200000 = spark.sql('''with February as \n",
        "                  (select StateName, \n",
        "                  sum(cast(`2020-02` as float))/count(`2020-02`) as averagePrice \n",
        "                  from zillow group by StateName)\n",
        "                  select * from February where averagePrice <= 200000''')\n",
        "price_perstate_below_200000.show()"
      ],
      "execution_count": 8,
      "outputs": [
        {
          "output_type": "stream",
          "name": "stdout",
          "text": [
            "+-------------+------------------+\n",
            "|    StateName|      averagePrice|\n",
            "+-------------+------------------+\n",
            "|         Ohio|182818.30065359478|\n",
            "|     Arkansas|165128.57142857142|\n",
            "|     Nebraska|          198640.0|\n",
            "|     Oklahoma|165754.83870967742|\n",
            "|West Virginia|          184400.0|\n",
            "|         Iowa|        184290.625|\n",
            "|     Kentucky|          184020.0|\n",
            "|    Louisiana|196130.30303030304|\n",
            "|  Mississippi|         180293.75|\n",
            "|      Indiana|192643.83561643836|\n",
            "+-------------+------------------+\n",
            "\n"
          ]
        }
      ]
    },
    {
      "cell_type": "code",
      "metadata": {
        "id": "CAd4IC7RCKZP"
      },
      "source": [
        "# Convert your SparkSQL dataframe into a Pandas dataframe and save your Pandas dataframe into a CSV file\n",
        "pps_df = price_perstate_below_200000.toPandas()\n",
        "pps_df.to_csv(\"prices_under_200k.csv\")"
      ],
      "execution_count": 10,
      "outputs": []
    }
  ]
}