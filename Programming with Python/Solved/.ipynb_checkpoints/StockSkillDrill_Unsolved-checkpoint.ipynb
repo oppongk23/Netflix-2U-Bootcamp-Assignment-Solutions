{
 "cells": [
  {
   "cell_type": "code",
   "execution_count": 1,
   "metadata": {},
   "outputs": [],
   "source": [
    "# Import the 'os' and 'csv' libraries\n",
    "import os\n",
    "import csv"
   ]
  },
  {
   "cell_type": "code",
   "execution_count": 2,
   "metadata": {},
   "outputs": [],
   "source": [
    "# Set path for importing our CSV file\n",
    "file_path = os.path.join(\"../\", \"Resources\", \"yahoo_stock.csv\")"
   ]
  },
  {
   "cell_type": "code",
   "execution_count": 3,
   "metadata": {},
   "outputs": [
    {
     "name": "stdout",
     "output_type": "stream",
     "text": [
      "The date of the highest percentage change was 3/12/2020\n",
      "\n",
      "    The day's high was 2660.949951\n",
      "\n",
      "    The day's low was 2478.860107 \n",
      "\n",
      "    The total volume traded was 8829380000\n",
      "\n",
      "    The percentage change was 5.71%\n",
      "    \n"
     ]
    }
   ],
   "source": [
    "# Open a connection to the comma-delimited csv file \n",
    "with open(file_path, 'r') as csvfile:\n",
    "    # Read in the CSV file using csv.DictReader() class\n",
    "    stock_data = csv.DictReader(csvfile)\n",
    "    # Create a variable to save our print row and greatest daily percent change\n",
    "    printrow, max_pct = {}, 0\n",
    "    # Iterate through each row\n",
    "    for row in stock_data:    \n",
    "        # For each row, calculate the daily percent change\n",
    "        daily_pct = ((float(row[\"Close\"]) - float(row[\"Open\"]))/(float(row[\"Open\"])))*(100) \n",
    "        daily_pct = abs(round(daily_pct, 2))\n",
    "        # Check if the absolute daily percent change is greater than the previous max\n",
    "        if daily_pct > max_pct:     \n",
    "            # If true, store new greatest daily percent change and print row\n",
    "            max_pct = daily_pct\n",
    "            printrow = row\n",
    "    # Print out the date, stock high, stock low, volume and percent change for the day with the greatest percent change\n",
    "    print(\"\"\"The date of the highest percentage change was {}\\n\n",
    "    The day's high was {}\\n\n",
    "    The day's low was {} \\n\n",
    "    The total volume traded was {}\\n\n",
    "    The percentage change was {}%\n",
    "    \"\"\" .format(printrow[\"Date\"], printrow[\"High\"], printrow[\"Low\"], printrow[\"Volume\"], max_pct))"
   ]
  },
  {
   "cell_type": "code",
   "execution_count": null,
   "metadata": {},
   "outputs": [],
   "source": []
  }
 ],
 "metadata": {
  "kernelspec": {
   "display_name": "Python 3",
   "language": "python",
   "name": "python3"
  },
  "language_info": {
   "codemirror_mode": {
    "name": "ipython",
    "version": 3
   },
   "file_extension": ".py",
   "mimetype": "text/x-python",
   "name": "python",
   "nbconvert_exporter": "python",
   "pygments_lexer": "ipython3",
   "version": "3.8.5"
  }
 },
 "nbformat": 4,
 "nbformat_minor": 4
}
