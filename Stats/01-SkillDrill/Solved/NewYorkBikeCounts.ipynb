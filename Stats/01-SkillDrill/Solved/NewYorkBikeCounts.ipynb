{
 "cells": [
  {
   "cell_type": "code",
   "execution_count": 1,
   "metadata": {},
   "outputs": [],
   "source": [
    "# Dependencies\n",
    "import pandas as pd\n",
    "import plotly.express as plt\n",
    "import os\n",
    "import statsmodels.api as sm"
   ]
  },
  {
   "cell_type": "code",
   "execution_count": 2,
   "metadata": {},
   "outputs": [
    {
     "data": {
      "text/html": [
       "<div>\n",
       "<style scoped>\n",
       "    .dataframe tbody tr th:only-of-type {\n",
       "        vertical-align: middle;\n",
       "    }\n",
       "\n",
       "    .dataframe tbody tr th {\n",
       "        vertical-align: top;\n",
       "    }\n",
       "\n",
       "    .dataframe thead th {\n",
       "        text-align: right;\n",
       "    }\n",
       "</style>\n",
       "<table border=\"1\" class=\"dataframe\">\n",
       "  <thead>\n",
       "    <tr style=\"text-align: right;\">\n",
       "      <th></th>\n",
       "      <th>Unnamed: 0</th>\n",
       "      <th>Date</th>\n",
       "      <th>Day</th>\n",
       "      <th>High Temp (°F)</th>\n",
       "      <th>Low Temp (°F)</th>\n",
       "      <th>Precipitation</th>\n",
       "      <th>Brooklyn Bridge</th>\n",
       "      <th>Manhattan Bridge</th>\n",
       "      <th>Williamsburg Bridge</th>\n",
       "      <th>Queensboro Bridge</th>\n",
       "      <th>Total</th>\n",
       "    </tr>\n",
       "  </thead>\n",
       "  <tbody>\n",
       "    <tr>\n",
       "      <th>0</th>\n",
       "      <td>0</td>\n",
       "      <td>2016-04-01</td>\n",
       "      <td>2016-04-01</td>\n",
       "      <td>78.1</td>\n",
       "      <td>66.0</td>\n",
       "      <td>0.01</td>\n",
       "      <td>1704.0</td>\n",
       "      <td>3126</td>\n",
       "      <td>4115.0</td>\n",
       "      <td>2552.0</td>\n",
       "      <td>11497</td>\n",
       "    </tr>\n",
       "    <tr>\n",
       "      <th>1</th>\n",
       "      <td>1</td>\n",
       "      <td>2016-04-02</td>\n",
       "      <td>2016-04-02</td>\n",
       "      <td>55.0</td>\n",
       "      <td>48.9</td>\n",
       "      <td>0.15</td>\n",
       "      <td>827.0</td>\n",
       "      <td>1646</td>\n",
       "      <td>2565.0</td>\n",
       "      <td>1884.0</td>\n",
       "      <td>6922</td>\n",
       "    </tr>\n",
       "    <tr>\n",
       "      <th>2</th>\n",
       "      <td>2</td>\n",
       "      <td>2016-04-03</td>\n",
       "      <td>2016-04-03</td>\n",
       "      <td>39.9</td>\n",
       "      <td>34.0</td>\n",
       "      <td>0.09</td>\n",
       "      <td>526.0</td>\n",
       "      <td>1232</td>\n",
       "      <td>1695.0</td>\n",
       "      <td>1306.0</td>\n",
       "      <td>4759</td>\n",
       "    </tr>\n",
       "    <tr>\n",
       "      <th>3</th>\n",
       "      <td>3</td>\n",
       "      <td>2016-04-04</td>\n",
       "      <td>2016-04-04</td>\n",
       "      <td>44.1</td>\n",
       "      <td>33.1</td>\n",
       "      <td>0.47 (S)</td>\n",
       "      <td>521.0</td>\n",
       "      <td>1067</td>\n",
       "      <td>1440.0</td>\n",
       "      <td>1307.0</td>\n",
       "      <td>4335</td>\n",
       "    </tr>\n",
       "    <tr>\n",
       "      <th>4</th>\n",
       "      <td>4</td>\n",
       "      <td>2016-04-05</td>\n",
       "      <td>2016-04-05</td>\n",
       "      <td>42.1</td>\n",
       "      <td>26.1</td>\n",
       "      <td>0</td>\n",
       "      <td>1416.0</td>\n",
       "      <td>2617</td>\n",
       "      <td>3081.0</td>\n",
       "      <td>2357.0</td>\n",
       "      <td>9471</td>\n",
       "    </tr>\n",
       "  </tbody>\n",
       "</table>\n",
       "</div>"
      ],
      "text/plain": [
       "   Unnamed: 0        Date        Day  High Temp (°F)  Low Temp (°F)  \\\n",
       "0           0  2016-04-01 2016-04-01            78.1           66.0   \n",
       "1           1  2016-04-02 2016-04-02            55.0           48.9   \n",
       "2           2  2016-04-03 2016-04-03            39.9           34.0   \n",
       "3           3  2016-04-04 2016-04-04            44.1           33.1   \n",
       "4           4  2016-04-05 2016-04-05            42.1           26.1   \n",
       "\n",
       "  Precipitation  Brooklyn Bridge  Manhattan Bridge  Williamsburg Bridge  \\\n",
       "0          0.01           1704.0              3126               4115.0   \n",
       "1          0.15            827.0              1646               2565.0   \n",
       "2          0.09            526.0              1232               1695.0   \n",
       "3      0.47 (S)            521.0              1067               1440.0   \n",
       "4             0           1416.0              2617               3081.0   \n",
       "\n",
       "   Queensboro Bridge  Total  \n",
       "0             2552.0  11497  \n",
       "1             1884.0   6922  \n",
       "2             1306.0   4759  \n",
       "3             1307.0   4335  \n",
       "4             2357.0   9471  "
      ]
     },
     "execution_count": 2,
     "metadata": {},
     "output_type": "execute_result"
    }
   ],
   "source": [
    "bikecounts_file = os.path.join('../','Resources', 'bikecounts.csv')\n",
    "bikecounts_df = pd.read_csv(bikecounts_file)\n",
    "bikecounts_df['Day'] = pd.to_datetime(bikecounts_df['Day'])\n",
    "bikecounts_df.head()"
   ]
  },
  {
   "cell_type": "code",
   "execution_count": 3,
   "metadata": {},
   "outputs": [
    {
     "name": "stdout",
     "output_type": "stream",
     "text": [
      "<class 'pandas.core.frame.DataFrame'>\n",
      "RangeIndex: 30 entries, 0 to 29\n",
      "Data columns (total 11 columns):\n",
      " #   Column               Non-Null Count  Dtype         \n",
      "---  ------               --------------  -----         \n",
      " 0   Unnamed: 0           30 non-null     int64         \n",
      " 1   Date                 30 non-null     object        \n",
      " 2   Day                  30 non-null     datetime64[ns]\n",
      " 3   High Temp (°F)       30 non-null     float64       \n",
      " 4   Low Temp (°F)        30 non-null     float64       \n",
      " 5   Precipitation        30 non-null     object        \n",
      " 6   Brooklyn Bridge      30 non-null     float64       \n",
      " 7   Manhattan Bridge     30 non-null     int64         \n",
      " 8   Williamsburg Bridge  30 non-null     float64       \n",
      " 9   Queensboro Bridge    30 non-null     float64       \n",
      " 10  Total                30 non-null     int64         \n",
      "dtypes: datetime64[ns](1), float64(5), int64(3), object(2)\n",
      "memory usage: 2.7+ KB\n"
     ]
    }
   ],
   "source": [
    "bikecounts_df.info()"
   ]
  },
  {
   "cell_type": "code",
   "execution_count": 4,
   "metadata": {},
   "outputs": [
    {
     "name": "stdout",
     "output_type": "stream",
     "text": [
      "True\n"
     ]
    }
   ],
   "source": [
    "#The \"Date\" column is changed to a datetime format and is compared to the \"Day\" column. They are equal hence one\n",
    "#of them can be dropped\n",
    "bikecounts_df[\"Date\"] = pd.to_datetime(bikecounts_df[\"Date\"])\n",
    "print(all(bikecounts_df[\"Date\"] == bikecounts_df[\"Day\"]))\n",
    "bikecounts_df = bikecounts_df.drop(labels=[\"Day\", \"Unnamed: 0\"], axis=1)\n",
    "\n",
    "#the next step is to clean the data. There are some unwanted characters in the \"Precipitation\" column which will\n",
    "#make the column an onject instead of a float, and we cannot find the relationship between the column and our target\n",
    "\n",
    "#this function will be used to clean up the \"Precipitation\" column\n",
    "def cleanString(string):\n",
    "    string = string.replace({\"T\": \"0\", \"0.47 (S)\": \"0.47\"})       \n",
    "    return string\n",
    "\n",
    "#cleaning the values of the \"Precipitation\" column and changing it to type \"float\"\n",
    "bikecounts_df[\"Precipitation\"] = cleanString(bikecounts_df[\"Precipitation\"])\n",
    "bikecounts_df[\"Precipitation\"] = bikecounts_df[\"Precipitation\"].astype(\"float64\")"
   ]
  },
  {
   "cell_type": "code",
   "execution_count": 5,
   "metadata": {},
   "outputs": [
    {
     "data": {
      "text/html": [
       "<div>\n",
       "<style scoped>\n",
       "    .dataframe tbody tr th:only-of-type {\n",
       "        vertical-align: middle;\n",
       "    }\n",
       "\n",
       "    .dataframe tbody tr th {\n",
       "        vertical-align: top;\n",
       "    }\n",
       "\n",
       "    .dataframe thead th {\n",
       "        text-align: right;\n",
       "    }\n",
       "</style>\n",
       "<table border=\"1\" class=\"dataframe\">\n",
       "  <thead>\n",
       "    <tr style=\"text-align: right;\">\n",
       "      <th></th>\n",
       "      <th>Date</th>\n",
       "      <th>High Temp (°F)</th>\n",
       "      <th>Low Temp (°F)</th>\n",
       "      <th>Precipitation</th>\n",
       "      <th>Brooklyn Bridge</th>\n",
       "      <th>Manhattan Bridge</th>\n",
       "      <th>Williamsburg Bridge</th>\n",
       "      <th>Queensboro Bridge</th>\n",
       "      <th>Total</th>\n",
       "      <th>Average Temp (°F)</th>\n",
       "    </tr>\n",
       "  </thead>\n",
       "  <tbody>\n",
       "    <tr>\n",
       "      <th>0</th>\n",
       "      <td>2016-04-01</td>\n",
       "      <td>78.1</td>\n",
       "      <td>66.0</td>\n",
       "      <td>0.01</td>\n",
       "      <td>1704.0</td>\n",
       "      <td>3126</td>\n",
       "      <td>4115.0</td>\n",
       "      <td>2552.0</td>\n",
       "      <td>11497</td>\n",
       "      <td>72.05</td>\n",
       "    </tr>\n",
       "    <tr>\n",
       "      <th>1</th>\n",
       "      <td>2016-04-02</td>\n",
       "      <td>55.0</td>\n",
       "      <td>48.9</td>\n",
       "      <td>0.15</td>\n",
       "      <td>827.0</td>\n",
       "      <td>1646</td>\n",
       "      <td>2565.0</td>\n",
       "      <td>1884.0</td>\n",
       "      <td>6922</td>\n",
       "      <td>51.95</td>\n",
       "    </tr>\n",
       "    <tr>\n",
       "      <th>2</th>\n",
       "      <td>2016-04-03</td>\n",
       "      <td>39.9</td>\n",
       "      <td>34.0</td>\n",
       "      <td>0.09</td>\n",
       "      <td>526.0</td>\n",
       "      <td>1232</td>\n",
       "      <td>1695.0</td>\n",
       "      <td>1306.0</td>\n",
       "      <td>4759</td>\n",
       "      <td>36.95</td>\n",
       "    </tr>\n",
       "    <tr>\n",
       "      <th>3</th>\n",
       "      <td>2016-04-04</td>\n",
       "      <td>44.1</td>\n",
       "      <td>33.1</td>\n",
       "      <td>0.47</td>\n",
       "      <td>521.0</td>\n",
       "      <td>1067</td>\n",
       "      <td>1440.0</td>\n",
       "      <td>1307.0</td>\n",
       "      <td>4335</td>\n",
       "      <td>38.60</td>\n",
       "    </tr>\n",
       "    <tr>\n",
       "      <th>4</th>\n",
       "      <td>2016-04-05</td>\n",
       "      <td>42.1</td>\n",
       "      <td>26.1</td>\n",
       "      <td>0.00</td>\n",
       "      <td>1416.0</td>\n",
       "      <td>2617</td>\n",
       "      <td>3081.0</td>\n",
       "      <td>2357.0</td>\n",
       "      <td>9471</td>\n",
       "      <td>34.10</td>\n",
       "    </tr>\n",
       "  </tbody>\n",
       "</table>\n",
       "</div>"
      ],
      "text/plain": [
       "        Date  High Temp (°F)  Low Temp (°F)  Precipitation  Brooklyn Bridge  \\\n",
       "0 2016-04-01            78.1           66.0           0.01           1704.0   \n",
       "1 2016-04-02            55.0           48.9           0.15            827.0   \n",
       "2 2016-04-03            39.9           34.0           0.09            526.0   \n",
       "3 2016-04-04            44.1           33.1           0.47            521.0   \n",
       "4 2016-04-05            42.1           26.1           0.00           1416.0   \n",
       "\n",
       "   Manhattan Bridge  Williamsburg Bridge  Queensboro Bridge  Total  \\\n",
       "0              3126               4115.0             2552.0  11497   \n",
       "1              1646               2565.0             1884.0   6922   \n",
       "2              1232               1695.0             1306.0   4759   \n",
       "3              1067               1440.0             1307.0   4335   \n",
       "4              2617               3081.0             2357.0   9471   \n",
       "\n",
       "   Average Temp (°F)  \n",
       "0              72.05  \n",
       "1              51.95  \n",
       "2              36.95  \n",
       "3              38.60  \n",
       "4              34.10  "
      ]
     },
     "execution_count": 5,
     "metadata": {},
     "output_type": "execute_result"
    }
   ],
   "source": [
    "#We can find the average temperatue \n",
    "bikecounts_df[\"Average Temp (°F)\"] = (bikecounts_df[\"High Temp (°F)\"] + bikecounts_df[\"Low Temp (°F)\"])/2\n",
    "bikecounts_df.head()"
   ]
  },
  {
   "cell_type": "markdown",
   "metadata": {},
   "source": [
    "## Hypothesis\n",
    "The number of bikes that cross the Brooklyn Bridge everyday depends on the Temperature and the Precipitation on that day such that, the higher the temperature and the lower the precipitation, the higher the number of bikes that cross the Brooklyn Bridge"
   ]
  },
  {
   "cell_type": "markdown",
   "metadata": {},
   "source": [
    "## Null Hypothesis\n",
    "If the number of bikes that cross the Brooklyn Bridge is not dependent on the Temperature and the Precipitation, then an increase in temperaure and a decrease in precipitation will not cause a high number of bikes to cross the Brooklyn Bridge."
   ]
  },
  {
   "cell_type": "code",
   "execution_count": 6,
   "metadata": {},
   "outputs": [
    {
     "name": "stderr",
     "output_type": "stream",
     "text": [
      "/Users/cliffordboakyemensah/opt/anaconda3/lib/python3.8/site-packages/statsmodels/tsa/tsatools.py:142: FutureWarning: In a future version of pandas all arguments of concat except for the argument 'objs' will be keyword-only\n",
      "  x = pd.concat(x[::order], 1)\n"
     ]
    }
   ],
   "source": [
    "#Using linear Regression to test the hypothesis\n",
    "X = bikecounts_df[[\"Precipitation\", \"Average Temp (°F)\"]]\n",
    "y = bikecounts_df[\"Brooklyn Bridge\"]\n",
    "X = sm.add_constant(X)\n",
    "reg_model = sm.OLS(y, X)\n",
    "results = reg_model.fit()"
   ]
  },
  {
   "cell_type": "code",
   "execution_count": 7,
   "metadata": {},
   "outputs": [
    {
     "name": "stdout",
     "output_type": "stream",
     "text": [
      "                            OLS Regression Results                            \n",
      "==============================================================================\n",
      "Dep. Variable:        Brooklyn Bridge   R-squared:                       0.605\n",
      "Model:                            OLS   Adj. R-squared:                  0.576\n",
      "Method:                 Least Squares   F-statistic:                     20.70\n",
      "Date:                Fri, 08 Oct 2021   Prob (F-statistic):           3.55e-06\n",
      "Time:                        21:49:27   Log-Likelihood:                -235.22\n",
      "No. Observations:                  30   AIC:                             476.4\n",
      "Df Residuals:                      27   BIC:                             480.6\n",
      "Df Model:                           2                                         \n",
      "Covariance Type:            nonrobust                                         \n",
      "=====================================================================================\n",
      "                        coef    std err          t      P>|t|      [0.025      0.975]\n",
      "-------------------------------------------------------------------------------------\n",
      "const              -237.9800    697.754     -0.341      0.736   -1669.653    1193.693\n",
      "Precipitation     -4395.3591   1208.114     -3.638      0.001   -6874.204   -1916.514\n",
      "Average Temp (°F)    51.1740     12.478      4.101      0.000      25.571      76.777\n",
      "==============================================================================\n",
      "Omnibus:                        3.614   Durbin-Watson:                   1.016\n",
      "Prob(Omnibus):                  0.164   Jarque-Bera (JB):                2.743\n",
      "Skew:                          -0.741   Prob(JB):                        0.254\n",
      "Kurtosis:                       3.026   Cond. No.                         571.\n",
      "==============================================================================\n",
      "\n",
      "Notes:\n",
      "[1] Standard Errors assume that the covariance matrix of the errors is correctly specified.\n"
     ]
    }
   ],
   "source": [
    "print(results.summary())"
   ]
  },
  {
   "cell_type": "markdown",
   "metadata": {},
   "source": [
    "There exists a strong correlation between the independent variables and target variable. Looking at the P values for both \"Precipitation\"(0.001) and \"Average Temperature\" (0.000), we can assert that it is safe to reject the null hypothesis. "
   ]
  }
 ],
 "metadata": {
  "kernelspec": {
   "display_name": "Python 3 (ipykernel)",
   "language": "python",
   "name": "python3"
  },
  "language_info": {
   "codemirror_mode": {
    "name": "ipython",
    "version": 3
   },
   "file_extension": ".py",
   "mimetype": "text/x-python",
   "name": "python",
   "nbconvert_exporter": "python",
   "pygments_lexer": "ipython3",
   "version": "3.8.5"
  }
 },
 "nbformat": 4,
 "nbformat_minor": 4
}
